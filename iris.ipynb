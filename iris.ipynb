# Task 1: Load & Explore Dataset

import pandas as pd
import numpy as np
import matplotlib.pyplot as plt
import seaborn as sns

# Set Seaborn style
sns.set_theme()

# 1. Load dataset with better error handling
url = "https://archive.ics.uci.edu/ml/machine-learning-databases/iris/iris.data"
columns = ["sepal_length", "sepal_width", "petal_length", "petal_width", "species"]

try:
    df = pd.read_csv(url, header=None, names=columns)
    print("✅ Iris dataset loaded successfully from UCI")
except Exception as e:
    print("⚠️ Could not fetch from UCI:", e)
    # Use seaborn's built-in iris dataset instead of relying on a local file
    print("Loading iris dataset from seaborn instead...")
    df = sns.load_dataset("iris")
    # Rename columns to match our desired format if needed
    df = df.rename(columns={
        "sepal_length": "sepal_length",
        "sepal_width": "sepal_width", 
        "petal_length": "petal_length",
        "petal_width": "petal_width",
        "species": "species"
    })

# Inspect the first few rows
df.head()
